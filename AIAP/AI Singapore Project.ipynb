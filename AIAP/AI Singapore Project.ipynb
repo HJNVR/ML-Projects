{
 "cells": [
  {
   "cell_type": "code",
   "execution_count": 122,
   "metadata": {},
   "outputs": [],
   "source": [
    "import pandas as pd\n",
    "import numpy as np\n",
    "import matplotlib.pyplot as plt\n",
    "import seaborn as sns\n",
    "from scipy import stats\n",
    "%matplotlib inline"
   ]
  },
  {
   "cell_type": "code",
   "execution_count": 123,
   "metadata": {},
   "outputs": [
    {
     "data": {
      "text/html": [
       "<div>\n",
       "<style scoped>\n",
       "    .dataframe tbody tr th:only-of-type {\n",
       "        vertical-align: middle;\n",
       "    }\n",
       "\n",
       "    .dataframe tbody tr th {\n",
       "        vertical-align: top;\n",
       "    }\n",
       "\n",
       "    .dataframe thead th {\n",
       "        text-align: right;\n",
       "    }\n",
       "</style>\n",
       "<table border=\"1\" class=\"dataframe\">\n",
       "  <thead>\n",
       "    <tr style=\"text-align: right;\">\n",
       "      <th></th>\n",
       "      <th>id</th>\n",
       "      <th>date</th>\n",
       "      <th>price</th>\n",
       "      <th>bedrooms</th>\n",
       "      <th>bathrooms</th>\n",
       "      <th>floors</th>\n",
       "      <th>waterfront</th>\n",
       "      <th>view</th>\n",
       "      <th>condition</th>\n",
       "      <th>review_score</th>\n",
       "      <th>basement_size</th>\n",
       "      <th>built</th>\n",
       "      <th>renovation</th>\n",
       "      <th>zipcode</th>\n",
       "      <th>latitude</th>\n",
       "      <th>longitude</th>\n",
       "      <th>living_room_size</th>\n",
       "      <th>lot_size</th>\n",
       "    </tr>\n",
       "  </thead>\n",
       "  <tbody>\n",
       "    <tr>\n",
       "      <th>0</th>\n",
       "      <td>7787980.0</td>\n",
       "      <td>13 October 2014</td>\n",
       "      <td>221900.0</td>\n",
       "      <td>3.0</td>\n",
       "      <td>1.00</td>\n",
       "      <td>1.0</td>\n",
       "      <td>0.0</td>\n",
       "      <td>0.0</td>\n",
       "      <td>fair</td>\n",
       "      <td>10.0</td>\n",
       "      <td>0.0</td>\n",
       "      <td>1955.0</td>\n",
       "      <td>0.0</td>\n",
       "      <td>98178.0</td>\n",
       "      <td>47.5112</td>\n",
       "      <td>-122.257</td>\n",
       "      <td>1340.0</td>\n",
       "      <td>5650.0</td>\n",
       "    </tr>\n",
       "    <tr>\n",
       "      <th>1</th>\n",
       "      <td>6774848.0</td>\n",
       "      <td>09 December 2014</td>\n",
       "      <td>538000.0</td>\n",
       "      <td>3.0</td>\n",
       "      <td>2.25</td>\n",
       "      <td>2.0</td>\n",
       "      <td>0.0</td>\n",
       "      <td>0.0</td>\n",
       "      <td>fair</td>\n",
       "      <td>7.0</td>\n",
       "      <td>400.0</td>\n",
       "      <td>1951.0</td>\n",
       "      <td>1991.0</td>\n",
       "      <td>98125.0</td>\n",
       "      <td>47.7210</td>\n",
       "      <td>-122.319</td>\n",
       "      <td>1690.0</td>\n",
       "      <td>7639.0</td>\n",
       "    </tr>\n",
       "    <tr>\n",
       "      <th>2</th>\n",
       "      <td>6999329.0</td>\n",
       "      <td>25 February 2015</td>\n",
       "      <td>180000.0</td>\n",
       "      <td>2.0</td>\n",
       "      <td>1.00</td>\n",
       "      <td>1.0</td>\n",
       "      <td>0.0</td>\n",
       "      <td>0.0</td>\n",
       "      <td>fair</td>\n",
       "      <td>8.0</td>\n",
       "      <td>0.0</td>\n",
       "      <td>1933.0</td>\n",
       "      <td>0.0</td>\n",
       "      <td>98028.0</td>\n",
       "      <td>47.7379</td>\n",
       "      <td>-122.233</td>\n",
       "      <td>2720.0</td>\n",
       "      <td>8062.0</td>\n",
       "    </tr>\n",
       "    <tr>\n",
       "      <th>3</th>\n",
       "      <td>7773052.0</td>\n",
       "      <td>09 December 2014</td>\n",
       "      <td>604000.0</td>\n",
       "      <td>4.0</td>\n",
       "      <td>3.00</td>\n",
       "      <td>1.0</td>\n",
       "      <td>0.0</td>\n",
       "      <td>0.0</td>\n",
       "      <td>excellent</td>\n",
       "      <td>6.0</td>\n",
       "      <td>910.0</td>\n",
       "      <td>1965.0</td>\n",
       "      <td>0.0</td>\n",
       "      <td>98136.0</td>\n",
       "      <td>47.5208</td>\n",
       "      <td>-122.393</td>\n",
       "      <td>1360.0</td>\n",
       "      <td>5000.0</td>\n",
       "    </tr>\n",
       "    <tr>\n",
       "      <th>4</th>\n",
       "      <td>7760818.0</td>\n",
       "      <td>18 February 2015</td>\n",
       "      <td>510000.0</td>\n",
       "      <td>3.0</td>\n",
       "      <td>2.00</td>\n",
       "      <td>1.0</td>\n",
       "      <td>0.0</td>\n",
       "      <td>0.0</td>\n",
       "      <td>fair</td>\n",
       "      <td>6.0</td>\n",
       "      <td>0.0</td>\n",
       "      <td>1987.0</td>\n",
       "      <td>0.0</td>\n",
       "      <td>98074.0</td>\n",
       "      <td>47.6168</td>\n",
       "      <td>-122.045</td>\n",
       "      <td>1800.0</td>\n",
       "      <td>7503.0</td>\n",
       "    </tr>\n",
       "    <tr>\n",
       "      <th>...</th>\n",
       "      <td>...</td>\n",
       "      <td>...</td>\n",
       "      <td>...</td>\n",
       "      <td>...</td>\n",
       "      <td>...</td>\n",
       "      <td>...</td>\n",
       "      <td>...</td>\n",
       "      <td>...</td>\n",
       "      <td>...</td>\n",
       "      <td>...</td>\n",
       "      <td>...</td>\n",
       "      <td>...</td>\n",
       "      <td>...</td>\n",
       "      <td>...</td>\n",
       "      <td>...</td>\n",
       "      <td>...</td>\n",
       "      <td>...</td>\n",
       "      <td>...</td>\n",
       "    </tr>\n",
       "    <tr>\n",
       "      <th>23149</th>\n",
       "      <td>7681392.0</td>\n",
       "      <td>30 September 2014</td>\n",
       "      <td>455000.0</td>\n",
       "      <td>2.0</td>\n",
       "      <td>1.75</td>\n",
       "      <td>1.0</td>\n",
       "      <td>0.0</td>\n",
       "      <td>0.0</td>\n",
       "      <td>fair</td>\n",
       "      <td>6.0</td>\n",
       "      <td>0.0</td>\n",
       "      <td>2004.0</td>\n",
       "      <td>0.0</td>\n",
       "      <td>98053.0</td>\n",
       "      <td>47.7171</td>\n",
       "      <td>-122.033</td>\n",
       "      <td>1440.0</td>\n",
       "      <td>4839.0</td>\n",
       "    </tr>\n",
       "    <tr>\n",
       "      <th>23150</th>\n",
       "      <td>6990763.0</td>\n",
       "      <td>24 October 2014</td>\n",
       "      <td>239000.0</td>\n",
       "      <td>3.0</td>\n",
       "      <td>1.50</td>\n",
       "      <td>1.0</td>\n",
       "      <td>0.0</td>\n",
       "      <td>0.0</td>\n",
       "      <td>fair</td>\n",
       "      <td>NaN</td>\n",
       "      <td>430.0</td>\n",
       "      <td>1971.0</td>\n",
       "      <td>0.0</td>\n",
       "      <td>98188.0</td>\n",
       "      <td>47.4239</td>\n",
       "      <td>-122.292</td>\n",
       "      <td>1400.0</td>\n",
       "      <td>11500.0</td>\n",
       "    </tr>\n",
       "    <tr>\n",
       "      <th>23151</th>\n",
       "      <td>7261690.0</td>\n",
       "      <td>13 April 2015</td>\n",
       "      <td>179000.0</td>\n",
       "      <td>2.0</td>\n",
       "      <td>1.00</td>\n",
       "      <td>1.0</td>\n",
       "      <td>0.0</td>\n",
       "      <td>0.0</td>\n",
       "      <td>FAIR</td>\n",
       "      <td>11.0</td>\n",
       "      <td>0.0</td>\n",
       "      <td>1949.0</td>\n",
       "      <td>0.0</td>\n",
       "      <td>98188.0</td>\n",
       "      <td>47.4488</td>\n",
       "      <td>-122.274</td>\n",
       "      <td>1100.0</td>\n",
       "      <td>8916.0</td>\n",
       "    </tr>\n",
       "    <tr>\n",
       "      <th>23152</th>\n",
       "      <td>6844960.0</td>\n",
       "      <td>04 May 2015</td>\n",
       "      <td>450000.0</td>\n",
       "      <td>3.0</td>\n",
       "      <td>1.00</td>\n",
       "      <td>1.5</td>\n",
       "      <td>0.0</td>\n",
       "      <td>0.0</td>\n",
       "      <td>good</td>\n",
       "      <td>7.0</td>\n",
       "      <td>0.0</td>\n",
       "      <td>1917.0</td>\n",
       "      <td>0.0</td>\n",
       "      <td>98118.0</td>\n",
       "      <td>47.5620</td>\n",
       "      <td>-122.289</td>\n",
       "      <td>1140.0</td>\n",
       "      <td>3960.0</td>\n",
       "    </tr>\n",
       "    <tr>\n",
       "      <th>23153</th>\n",
       "      <td>NaN</td>\n",
       "      <td>12 September 2014</td>\n",
       "      <td>895000.0</td>\n",
       "      <td>4.0</td>\n",
       "      <td>NaN</td>\n",
       "      <td>2.0</td>\n",
       "      <td>NaN</td>\n",
       "      <td>NaN</td>\n",
       "      <td>NaN</td>\n",
       "      <td>7.0</td>\n",
       "      <td>910.0</td>\n",
       "      <td>NaN</td>\n",
       "      <td>0.0</td>\n",
       "      <td>98115.0</td>\n",
       "      <td>47.6727</td>\n",
       "      <td>NaN</td>\n",
       "      <td>1530.0</td>\n",
       "      <td>NaN</td>\n",
       "    </tr>\n",
       "  </tbody>\n",
       "</table>\n",
       "<p>23154 rows × 18 columns</p>\n",
       "</div>"
      ],
      "text/plain": [
       "              id               date     price  bedrooms  bathrooms  floors  \\\n",
       "0      7787980.0    13 October 2014  221900.0       3.0       1.00     1.0   \n",
       "1      6774848.0   09 December 2014  538000.0       3.0       2.25     2.0   \n",
       "2      6999329.0   25 February 2015  180000.0       2.0       1.00     1.0   \n",
       "3      7773052.0   09 December 2014  604000.0       4.0       3.00     1.0   \n",
       "4      7760818.0   18 February 2015  510000.0       3.0       2.00     1.0   \n",
       "...          ...                ...       ...       ...        ...     ...   \n",
       "23149  7681392.0  30 September 2014  455000.0       2.0       1.75     1.0   \n",
       "23150  6990763.0    24 October 2014  239000.0       3.0       1.50     1.0   \n",
       "23151  7261690.0      13 April 2015  179000.0       2.0       1.00     1.0   \n",
       "23152  6844960.0        04 May 2015  450000.0       3.0       1.00     1.5   \n",
       "23153        NaN  12 September 2014  895000.0       4.0        NaN     2.0   \n",
       "\n",
       "       waterfront  view  condition  review_score  basement_size   built  \\\n",
       "0             0.0   0.0       fair          10.0            0.0  1955.0   \n",
       "1             0.0   0.0       fair           7.0          400.0  1951.0   \n",
       "2             0.0   0.0       fair           8.0            0.0  1933.0   \n",
       "3             0.0   0.0  excellent           6.0          910.0  1965.0   \n",
       "4             0.0   0.0       fair           6.0            0.0  1987.0   \n",
       "...           ...   ...        ...           ...            ...     ...   \n",
       "23149         0.0   0.0       fair           6.0            0.0  2004.0   \n",
       "23150         0.0   0.0       fair           NaN          430.0  1971.0   \n",
       "23151         0.0   0.0       FAIR          11.0            0.0  1949.0   \n",
       "23152         0.0   0.0       good           7.0            0.0  1917.0   \n",
       "23153         NaN   NaN        NaN           7.0          910.0     NaN   \n",
       "\n",
       "       renovation  zipcode  latitude  longitude  living_room_size  lot_size  \n",
       "0             0.0  98178.0   47.5112   -122.257            1340.0    5650.0  \n",
       "1          1991.0  98125.0   47.7210   -122.319            1690.0    7639.0  \n",
       "2             0.0  98028.0   47.7379   -122.233            2720.0    8062.0  \n",
       "3             0.0  98136.0   47.5208   -122.393            1360.0    5000.0  \n",
       "4             0.0  98074.0   47.6168   -122.045            1800.0    7503.0  \n",
       "...           ...      ...       ...        ...               ...       ...  \n",
       "23149         0.0  98053.0   47.7171   -122.033            1440.0    4839.0  \n",
       "23150         0.0  98188.0   47.4239   -122.292            1400.0   11500.0  \n",
       "23151         0.0  98188.0   47.4488   -122.274            1100.0    8916.0  \n",
       "23152         0.0  98118.0   47.5620   -122.289            1140.0    3960.0  \n",
       "23153         0.0  98115.0   47.6727        NaN            1530.0       NaN  \n",
       "\n",
       "[23154 rows x 18 columns]"
      ]
     },
     "execution_count": 123,
     "metadata": {},
     "output_type": "execute_result"
    }
   ],
   "source": [
    "df = pd.read_csv(\"D:/AI Singapore/database.csv\")\n",
    "df"
   ]
  },
  {
   "cell_type": "code",
   "execution_count": 124,
   "metadata": {},
   "outputs": [],
   "source": [
    "df.replace(\"?\", np.nan, inplace=True)\n",
    "df.dropna(axis=0, inplace=True)"
   ]
  },
  {
   "cell_type": "code",
   "execution_count": 125,
   "metadata": {},
   "outputs": [
    {
     "data": {
      "text/html": [
       "<div>\n",
       "<style scoped>\n",
       "    .dataframe tbody tr th:only-of-type {\n",
       "        vertical-align: middle;\n",
       "    }\n",
       "\n",
       "    .dataframe tbody tr th {\n",
       "        vertical-align: top;\n",
       "    }\n",
       "\n",
       "    .dataframe thead th {\n",
       "        text-align: right;\n",
       "    }\n",
       "</style>\n",
       "<table border=\"1\" class=\"dataframe\">\n",
       "  <thead>\n",
       "    <tr style=\"text-align: right;\">\n",
       "      <th></th>\n",
       "      <th>id</th>\n",
       "      <th>date</th>\n",
       "      <th>price</th>\n",
       "      <th>bedrooms</th>\n",
       "      <th>bathrooms</th>\n",
       "      <th>floors</th>\n",
       "      <th>waterfront</th>\n",
       "      <th>view</th>\n",
       "      <th>condition</th>\n",
       "      <th>review_score</th>\n",
       "      <th>basement_size</th>\n",
       "      <th>built</th>\n",
       "      <th>renovation</th>\n",
       "      <th>zipcode</th>\n",
       "      <th>latitude</th>\n",
       "      <th>longitude</th>\n",
       "      <th>living_room_size</th>\n",
       "      <th>lot_size</th>\n",
       "    </tr>\n",
       "  </thead>\n",
       "  <tbody>\n",
       "    <tr>\n",
       "      <th>0</th>\n",
       "      <td>7787980.0</td>\n",
       "      <td>13 October 2014</td>\n",
       "      <td>221900.0</td>\n",
       "      <td>3.0</td>\n",
       "      <td>1.00</td>\n",
       "      <td>1.0</td>\n",
       "      <td>0.0</td>\n",
       "      <td>0.0</td>\n",
       "      <td>fair</td>\n",
       "      <td>10.0</td>\n",
       "      <td>0.0</td>\n",
       "      <td>1955.0</td>\n",
       "      <td>0.0</td>\n",
       "      <td>98178.0</td>\n",
       "      <td>47.5112</td>\n",
       "      <td>-122.257</td>\n",
       "      <td>1340.0</td>\n",
       "      <td>5650.0</td>\n",
       "    </tr>\n",
       "    <tr>\n",
       "      <th>1</th>\n",
       "      <td>6774848.0</td>\n",
       "      <td>09 December 2014</td>\n",
       "      <td>538000.0</td>\n",
       "      <td>3.0</td>\n",
       "      <td>2.25</td>\n",
       "      <td>2.0</td>\n",
       "      <td>0.0</td>\n",
       "      <td>0.0</td>\n",
       "      <td>fair</td>\n",
       "      <td>7.0</td>\n",
       "      <td>400.0</td>\n",
       "      <td>1951.0</td>\n",
       "      <td>1991.0</td>\n",
       "      <td>98125.0</td>\n",
       "      <td>47.7210</td>\n",
       "      <td>-122.319</td>\n",
       "      <td>1690.0</td>\n",
       "      <td>7639.0</td>\n",
       "    </tr>\n",
       "    <tr>\n",
       "      <th>2</th>\n",
       "      <td>6999329.0</td>\n",
       "      <td>25 February 2015</td>\n",
       "      <td>180000.0</td>\n",
       "      <td>2.0</td>\n",
       "      <td>1.00</td>\n",
       "      <td>1.0</td>\n",
       "      <td>0.0</td>\n",
       "      <td>0.0</td>\n",
       "      <td>fair</td>\n",
       "      <td>8.0</td>\n",
       "      <td>0.0</td>\n",
       "      <td>1933.0</td>\n",
       "      <td>0.0</td>\n",
       "      <td>98028.0</td>\n",
       "      <td>47.7379</td>\n",
       "      <td>-122.233</td>\n",
       "      <td>2720.0</td>\n",
       "      <td>8062.0</td>\n",
       "    </tr>\n",
       "    <tr>\n",
       "      <th>3</th>\n",
       "      <td>7773052.0</td>\n",
       "      <td>09 December 2014</td>\n",
       "      <td>604000.0</td>\n",
       "      <td>4.0</td>\n",
       "      <td>3.00</td>\n",
       "      <td>1.0</td>\n",
       "      <td>0.0</td>\n",
       "      <td>0.0</td>\n",
       "      <td>excellent</td>\n",
       "      <td>6.0</td>\n",
       "      <td>910.0</td>\n",
       "      <td>1965.0</td>\n",
       "      <td>0.0</td>\n",
       "      <td>98136.0</td>\n",
       "      <td>47.5208</td>\n",
       "      <td>-122.393</td>\n",
       "      <td>1360.0</td>\n",
       "      <td>5000.0</td>\n",
       "    </tr>\n",
       "    <tr>\n",
       "      <th>4</th>\n",
       "      <td>7760818.0</td>\n",
       "      <td>18 February 2015</td>\n",
       "      <td>510000.0</td>\n",
       "      <td>3.0</td>\n",
       "      <td>2.00</td>\n",
       "      <td>1.0</td>\n",
       "      <td>0.0</td>\n",
       "      <td>0.0</td>\n",
       "      <td>fair</td>\n",
       "      <td>6.0</td>\n",
       "      <td>0.0</td>\n",
       "      <td>1987.0</td>\n",
       "      <td>0.0</td>\n",
       "      <td>98074.0</td>\n",
       "      <td>47.6168</td>\n",
       "      <td>-122.045</td>\n",
       "      <td>1800.0</td>\n",
       "      <td>7503.0</td>\n",
       "    </tr>\n",
       "    <tr>\n",
       "      <th>...</th>\n",
       "      <td>...</td>\n",
       "      <td>...</td>\n",
       "      <td>...</td>\n",
       "      <td>...</td>\n",
       "      <td>...</td>\n",
       "      <td>...</td>\n",
       "      <td>...</td>\n",
       "      <td>...</td>\n",
       "      <td>...</td>\n",
       "      <td>...</td>\n",
       "      <td>...</td>\n",
       "      <td>...</td>\n",
       "      <td>...</td>\n",
       "      <td>...</td>\n",
       "      <td>...</td>\n",
       "      <td>...</td>\n",
       "      <td>...</td>\n",
       "      <td>...</td>\n",
       "    </tr>\n",
       "    <tr>\n",
       "      <th>23146</th>\n",
       "      <td>8031079.0</td>\n",
       "      <td>29 July 2014</td>\n",
       "      <td>750000.0</td>\n",
       "      <td>3.0</td>\n",
       "      <td>2.50</td>\n",
       "      <td>2.0</td>\n",
       "      <td>1.0</td>\n",
       "      <td>3.0</td>\n",
       "      <td>good</td>\n",
       "      <td>9.0</td>\n",
       "      <td>0.0</td>\n",
       "      <td>1990.0</td>\n",
       "      <td>0.0</td>\n",
       "      <td>98070.0</td>\n",
       "      <td>47.4000</td>\n",
       "      <td>-122.420</td>\n",
       "      <td>2350.0</td>\n",
       "      <td>41433.0</td>\n",
       "    </tr>\n",
       "    <tr>\n",
       "      <th>23147</th>\n",
       "      <td>6749004.0</td>\n",
       "      <td>10 April 2015</td>\n",
       "      <td>237000.0</td>\n",
       "      <td>3.0</td>\n",
       "      <td>1.50</td>\n",
       "      <td>1.0</td>\n",
       "      <td>0.0</td>\n",
       "      <td>0.0</td>\n",
       "      <td>fair</td>\n",
       "      <td>7.0</td>\n",
       "      <td>0.0</td>\n",
       "      <td>1962.0</td>\n",
       "      <td>0.0</td>\n",
       "      <td>98198.0</td>\n",
       "      <td>47.3798</td>\n",
       "      <td>-122.306</td>\n",
       "      <td>1640.0</td>\n",
       "      <td>8060.0</td>\n",
       "    </tr>\n",
       "    <tr>\n",
       "      <th>23149</th>\n",
       "      <td>7681392.0</td>\n",
       "      <td>30 September 2014</td>\n",
       "      <td>455000.0</td>\n",
       "      <td>2.0</td>\n",
       "      <td>1.75</td>\n",
       "      <td>1.0</td>\n",
       "      <td>0.0</td>\n",
       "      <td>0.0</td>\n",
       "      <td>fair</td>\n",
       "      <td>6.0</td>\n",
       "      <td>0.0</td>\n",
       "      <td>2004.0</td>\n",
       "      <td>0.0</td>\n",
       "      <td>98053.0</td>\n",
       "      <td>47.7171</td>\n",
       "      <td>-122.033</td>\n",
       "      <td>1440.0</td>\n",
       "      <td>4839.0</td>\n",
       "    </tr>\n",
       "    <tr>\n",
       "      <th>23151</th>\n",
       "      <td>7261690.0</td>\n",
       "      <td>13 April 2015</td>\n",
       "      <td>179000.0</td>\n",
       "      <td>2.0</td>\n",
       "      <td>1.00</td>\n",
       "      <td>1.0</td>\n",
       "      <td>0.0</td>\n",
       "      <td>0.0</td>\n",
       "      <td>FAIR</td>\n",
       "      <td>11.0</td>\n",
       "      <td>0.0</td>\n",
       "      <td>1949.0</td>\n",
       "      <td>0.0</td>\n",
       "      <td>98188.0</td>\n",
       "      <td>47.4488</td>\n",
       "      <td>-122.274</td>\n",
       "      <td>1100.0</td>\n",
       "      <td>8916.0</td>\n",
       "    </tr>\n",
       "    <tr>\n",
       "      <th>23152</th>\n",
       "      <td>6844960.0</td>\n",
       "      <td>04 May 2015</td>\n",
       "      <td>450000.0</td>\n",
       "      <td>3.0</td>\n",
       "      <td>1.00</td>\n",
       "      <td>1.5</td>\n",
       "      <td>0.0</td>\n",
       "      <td>0.0</td>\n",
       "      <td>good</td>\n",
       "      <td>7.0</td>\n",
       "      <td>0.0</td>\n",
       "      <td>1917.0</td>\n",
       "      <td>0.0</td>\n",
       "      <td>98118.0</td>\n",
       "      <td>47.5620</td>\n",
       "      <td>-122.289</td>\n",
       "      <td>1140.0</td>\n",
       "      <td>3960.0</td>\n",
       "    </tr>\n",
       "  </tbody>\n",
       "</table>\n",
       "<p>19688 rows × 18 columns</p>\n",
       "</div>"
      ],
      "text/plain": [
       "              id               date     price  bedrooms  bathrooms  floors  \\\n",
       "0      7787980.0    13 October 2014  221900.0       3.0       1.00     1.0   \n",
       "1      6774848.0   09 December 2014  538000.0       3.0       2.25     2.0   \n",
       "2      6999329.0   25 February 2015  180000.0       2.0       1.00     1.0   \n",
       "3      7773052.0   09 December 2014  604000.0       4.0       3.00     1.0   \n",
       "4      7760818.0   18 February 2015  510000.0       3.0       2.00     1.0   \n",
       "...          ...                ...       ...       ...        ...     ...   \n",
       "23146  8031079.0       29 July 2014  750000.0       3.0       2.50     2.0   \n",
       "23147  6749004.0      10 April 2015  237000.0       3.0       1.50     1.0   \n",
       "23149  7681392.0  30 September 2014  455000.0       2.0       1.75     1.0   \n",
       "23151  7261690.0      13 April 2015  179000.0       2.0       1.00     1.0   \n",
       "23152  6844960.0        04 May 2015  450000.0       3.0       1.00     1.5   \n",
       "\n",
       "       waterfront  view  condition  review_score  basement_size   built  \\\n",
       "0             0.0   0.0       fair          10.0            0.0  1955.0   \n",
       "1             0.0   0.0       fair           7.0          400.0  1951.0   \n",
       "2             0.0   0.0       fair           8.0            0.0  1933.0   \n",
       "3             0.0   0.0  excellent           6.0          910.0  1965.0   \n",
       "4             0.0   0.0       fair           6.0            0.0  1987.0   \n",
       "...           ...   ...        ...           ...            ...     ...   \n",
       "23146         1.0   3.0       good           9.0            0.0  1990.0   \n",
       "23147         0.0   0.0       fair           7.0            0.0  1962.0   \n",
       "23149         0.0   0.0       fair           6.0            0.0  2004.0   \n",
       "23151         0.0   0.0       FAIR          11.0            0.0  1949.0   \n",
       "23152         0.0   0.0       good           7.0            0.0  1917.0   \n",
       "\n",
       "       renovation  zipcode  latitude  longitude  living_room_size  lot_size  \n",
       "0             0.0  98178.0   47.5112   -122.257            1340.0    5650.0  \n",
       "1          1991.0  98125.0   47.7210   -122.319            1690.0    7639.0  \n",
       "2             0.0  98028.0   47.7379   -122.233            2720.0    8062.0  \n",
       "3             0.0  98136.0   47.5208   -122.393            1360.0    5000.0  \n",
       "4             0.0  98074.0   47.6168   -122.045            1800.0    7503.0  \n",
       "...           ...      ...       ...        ...               ...       ...  \n",
       "23146         0.0  98070.0   47.4000   -122.420            2350.0   41433.0  \n",
       "23147         0.0  98198.0   47.3798   -122.306            1640.0    8060.0  \n",
       "23149         0.0  98053.0   47.7171   -122.033            1440.0    4839.0  \n",
       "23151         0.0  98188.0   47.4488   -122.274            1100.0    8916.0  \n",
       "23152         0.0  98118.0   47.5620   -122.289            1140.0    3960.0  \n",
       "\n",
       "[19688 rows x 18 columns]"
      ]
     },
     "execution_count": 125,
     "metadata": {},
     "output_type": "execute_result"
    }
   ],
   "source": [
    "df"
   ]
  },
  {
   "cell_type": "code",
   "execution_count": 126,
   "metadata": {},
   "outputs": [
    {
     "data": {
      "text/plain": [
       "fair         11789\n",
       "good          4743\n",
       "excellent     1396\n",
       "FAIR           997\n",
       "GOOD           438\n",
       "poor           140\n",
       "EXCELLENT      140\n",
       "terrible        29\n",
       "POOR            14\n",
       "TERRIBLE         2\n",
       "Name: condition, dtype: int64"
      ]
     },
     "execution_count": 126,
     "metadata": {},
     "output_type": "execute_result"
    }
   ],
   "source": [
    "df['condition'].value_counts()"
   ]
  },
  {
   "cell_type": "code",
   "execution_count": 127,
   "metadata": {},
   "outputs": [],
   "source": [
    "df['condition'].replace(['FAIR','GOOD','EXCELLENT','POOR','TERRIBLE'],['fair','good','excellent','poor','terrible'], inplace=True)"
   ]
  },
  {
   "cell_type": "code",
   "execution_count": 128,
   "metadata": {},
   "outputs": [
    {
     "data": {
      "text/plain": [
       "fair         12786\n",
       "good          5181\n",
       "excellent     1536\n",
       "poor           154\n",
       "terrible        31\n",
       "Name: condition, dtype: int64"
      ]
     },
     "execution_count": 128,
     "metadata": {},
     "output_type": "execute_result"
    }
   ],
   "source": [
    "df['condition'].value_counts()"
   ]
  },
  {
   "cell_type": "code",
   "execution_count": 129,
   "metadata": {},
   "outputs": [],
   "source": [
    "onehot = pd.get_dummies(df['condition'])\n",
    "df = df.join(onehot, how='outer')"
   ]
  },
  {
   "cell_type": "code",
   "execution_count": 130,
   "metadata": {},
   "outputs": [
    {
     "data": {
      "text/html": [
       "<div>\n",
       "<style scoped>\n",
       "    .dataframe tbody tr th:only-of-type {\n",
       "        vertical-align: middle;\n",
       "    }\n",
       "\n",
       "    .dataframe tbody tr th {\n",
       "        vertical-align: top;\n",
       "    }\n",
       "\n",
       "    .dataframe thead th {\n",
       "        text-align: right;\n",
       "    }\n",
       "</style>\n",
       "<table border=\"1\" class=\"dataframe\">\n",
       "  <thead>\n",
       "    <tr style=\"text-align: right;\">\n",
       "      <th></th>\n",
       "      <th>id</th>\n",
       "      <th>date</th>\n",
       "      <th>price</th>\n",
       "      <th>bedrooms</th>\n",
       "      <th>bathrooms</th>\n",
       "      <th>floors</th>\n",
       "      <th>waterfront</th>\n",
       "      <th>view</th>\n",
       "      <th>condition</th>\n",
       "      <th>review_score</th>\n",
       "      <th>...</th>\n",
       "      <th>zipcode</th>\n",
       "      <th>latitude</th>\n",
       "      <th>longitude</th>\n",
       "      <th>living_room_size</th>\n",
       "      <th>lot_size</th>\n",
       "      <th>excellent</th>\n",
       "      <th>fair</th>\n",
       "      <th>good</th>\n",
       "      <th>poor</th>\n",
       "      <th>terrible</th>\n",
       "    </tr>\n",
       "  </thead>\n",
       "  <tbody>\n",
       "    <tr>\n",
       "      <th>0</th>\n",
       "      <td>7787980.0</td>\n",
       "      <td>13 October 2014</td>\n",
       "      <td>221900.0</td>\n",
       "      <td>3.0</td>\n",
       "      <td>1.00</td>\n",
       "      <td>1.0</td>\n",
       "      <td>0.0</td>\n",
       "      <td>0.0</td>\n",
       "      <td>fair</td>\n",
       "      <td>10.0</td>\n",
       "      <td>...</td>\n",
       "      <td>98178.0</td>\n",
       "      <td>47.5112</td>\n",
       "      <td>-122.257</td>\n",
       "      <td>1340.0</td>\n",
       "      <td>5650.0</td>\n",
       "      <td>0</td>\n",
       "      <td>1</td>\n",
       "      <td>0</td>\n",
       "      <td>0</td>\n",
       "      <td>0</td>\n",
       "    </tr>\n",
       "    <tr>\n",
       "      <th>1</th>\n",
       "      <td>6774848.0</td>\n",
       "      <td>09 December 2014</td>\n",
       "      <td>538000.0</td>\n",
       "      <td>3.0</td>\n",
       "      <td>2.25</td>\n",
       "      <td>2.0</td>\n",
       "      <td>0.0</td>\n",
       "      <td>0.0</td>\n",
       "      <td>fair</td>\n",
       "      <td>7.0</td>\n",
       "      <td>...</td>\n",
       "      <td>98125.0</td>\n",
       "      <td>47.7210</td>\n",
       "      <td>-122.319</td>\n",
       "      <td>1690.0</td>\n",
       "      <td>7639.0</td>\n",
       "      <td>0</td>\n",
       "      <td>1</td>\n",
       "      <td>0</td>\n",
       "      <td>0</td>\n",
       "      <td>0</td>\n",
       "    </tr>\n",
       "    <tr>\n",
       "      <th>2</th>\n",
       "      <td>6999329.0</td>\n",
       "      <td>25 February 2015</td>\n",
       "      <td>180000.0</td>\n",
       "      <td>2.0</td>\n",
       "      <td>1.00</td>\n",
       "      <td>1.0</td>\n",
       "      <td>0.0</td>\n",
       "      <td>0.0</td>\n",
       "      <td>fair</td>\n",
       "      <td>8.0</td>\n",
       "      <td>...</td>\n",
       "      <td>98028.0</td>\n",
       "      <td>47.7379</td>\n",
       "      <td>-122.233</td>\n",
       "      <td>2720.0</td>\n",
       "      <td>8062.0</td>\n",
       "      <td>0</td>\n",
       "      <td>1</td>\n",
       "      <td>0</td>\n",
       "      <td>0</td>\n",
       "      <td>0</td>\n",
       "    </tr>\n",
       "    <tr>\n",
       "      <th>3</th>\n",
       "      <td>7773052.0</td>\n",
       "      <td>09 December 2014</td>\n",
       "      <td>604000.0</td>\n",
       "      <td>4.0</td>\n",
       "      <td>3.00</td>\n",
       "      <td>1.0</td>\n",
       "      <td>0.0</td>\n",
       "      <td>0.0</td>\n",
       "      <td>excellent</td>\n",
       "      <td>6.0</td>\n",
       "      <td>...</td>\n",
       "      <td>98136.0</td>\n",
       "      <td>47.5208</td>\n",
       "      <td>-122.393</td>\n",
       "      <td>1360.0</td>\n",
       "      <td>5000.0</td>\n",
       "      <td>1</td>\n",
       "      <td>0</td>\n",
       "      <td>0</td>\n",
       "      <td>0</td>\n",
       "      <td>0</td>\n",
       "    </tr>\n",
       "    <tr>\n",
       "      <th>4</th>\n",
       "      <td>7760818.0</td>\n",
       "      <td>18 February 2015</td>\n",
       "      <td>510000.0</td>\n",
       "      <td>3.0</td>\n",
       "      <td>2.00</td>\n",
       "      <td>1.0</td>\n",
       "      <td>0.0</td>\n",
       "      <td>0.0</td>\n",
       "      <td>fair</td>\n",
       "      <td>6.0</td>\n",
       "      <td>...</td>\n",
       "      <td>98074.0</td>\n",
       "      <td>47.6168</td>\n",
       "      <td>-122.045</td>\n",
       "      <td>1800.0</td>\n",
       "      <td>7503.0</td>\n",
       "      <td>0</td>\n",
       "      <td>1</td>\n",
       "      <td>0</td>\n",
       "      <td>0</td>\n",
       "      <td>0</td>\n",
       "    </tr>\n",
       "    <tr>\n",
       "      <th>...</th>\n",
       "      <td>...</td>\n",
       "      <td>...</td>\n",
       "      <td>...</td>\n",
       "      <td>...</td>\n",
       "      <td>...</td>\n",
       "      <td>...</td>\n",
       "      <td>...</td>\n",
       "      <td>...</td>\n",
       "      <td>...</td>\n",
       "      <td>...</td>\n",
       "      <td>...</td>\n",
       "      <td>...</td>\n",
       "      <td>...</td>\n",
       "      <td>...</td>\n",
       "      <td>...</td>\n",
       "      <td>...</td>\n",
       "      <td>...</td>\n",
       "      <td>...</td>\n",
       "      <td>...</td>\n",
       "      <td>...</td>\n",
       "      <td>...</td>\n",
       "    </tr>\n",
       "    <tr>\n",
       "      <th>23146</th>\n",
       "      <td>8031079.0</td>\n",
       "      <td>29 July 2014</td>\n",
       "      <td>750000.0</td>\n",
       "      <td>3.0</td>\n",
       "      <td>2.50</td>\n",
       "      <td>2.0</td>\n",
       "      <td>1.0</td>\n",
       "      <td>3.0</td>\n",
       "      <td>good</td>\n",
       "      <td>9.0</td>\n",
       "      <td>...</td>\n",
       "      <td>98070.0</td>\n",
       "      <td>47.4000</td>\n",
       "      <td>-122.420</td>\n",
       "      <td>2350.0</td>\n",
       "      <td>41433.0</td>\n",
       "      <td>0</td>\n",
       "      <td>0</td>\n",
       "      <td>1</td>\n",
       "      <td>0</td>\n",
       "      <td>0</td>\n",
       "    </tr>\n",
       "    <tr>\n",
       "      <th>23147</th>\n",
       "      <td>6749004.0</td>\n",
       "      <td>10 April 2015</td>\n",
       "      <td>237000.0</td>\n",
       "      <td>3.0</td>\n",
       "      <td>1.50</td>\n",
       "      <td>1.0</td>\n",
       "      <td>0.0</td>\n",
       "      <td>0.0</td>\n",
       "      <td>fair</td>\n",
       "      <td>7.0</td>\n",
       "      <td>...</td>\n",
       "      <td>98198.0</td>\n",
       "      <td>47.3798</td>\n",
       "      <td>-122.306</td>\n",
       "      <td>1640.0</td>\n",
       "      <td>8060.0</td>\n",
       "      <td>0</td>\n",
       "      <td>1</td>\n",
       "      <td>0</td>\n",
       "      <td>0</td>\n",
       "      <td>0</td>\n",
       "    </tr>\n",
       "    <tr>\n",
       "      <th>23149</th>\n",
       "      <td>7681392.0</td>\n",
       "      <td>30 September 2014</td>\n",
       "      <td>455000.0</td>\n",
       "      <td>2.0</td>\n",
       "      <td>1.75</td>\n",
       "      <td>1.0</td>\n",
       "      <td>0.0</td>\n",
       "      <td>0.0</td>\n",
       "      <td>fair</td>\n",
       "      <td>6.0</td>\n",
       "      <td>...</td>\n",
       "      <td>98053.0</td>\n",
       "      <td>47.7171</td>\n",
       "      <td>-122.033</td>\n",
       "      <td>1440.0</td>\n",
       "      <td>4839.0</td>\n",
       "      <td>0</td>\n",
       "      <td>1</td>\n",
       "      <td>0</td>\n",
       "      <td>0</td>\n",
       "      <td>0</td>\n",
       "    </tr>\n",
       "    <tr>\n",
       "      <th>23151</th>\n",
       "      <td>7261690.0</td>\n",
       "      <td>13 April 2015</td>\n",
       "      <td>179000.0</td>\n",
       "      <td>2.0</td>\n",
       "      <td>1.00</td>\n",
       "      <td>1.0</td>\n",
       "      <td>0.0</td>\n",
       "      <td>0.0</td>\n",
       "      <td>fair</td>\n",
       "      <td>11.0</td>\n",
       "      <td>...</td>\n",
       "      <td>98188.0</td>\n",
       "      <td>47.4488</td>\n",
       "      <td>-122.274</td>\n",
       "      <td>1100.0</td>\n",
       "      <td>8916.0</td>\n",
       "      <td>0</td>\n",
       "      <td>1</td>\n",
       "      <td>0</td>\n",
       "      <td>0</td>\n",
       "      <td>0</td>\n",
       "    </tr>\n",
       "    <tr>\n",
       "      <th>23152</th>\n",
       "      <td>6844960.0</td>\n",
       "      <td>04 May 2015</td>\n",
       "      <td>450000.0</td>\n",
       "      <td>3.0</td>\n",
       "      <td>1.00</td>\n",
       "      <td>1.5</td>\n",
       "      <td>0.0</td>\n",
       "      <td>0.0</td>\n",
       "      <td>good</td>\n",
       "      <td>7.0</td>\n",
       "      <td>...</td>\n",
       "      <td>98118.0</td>\n",
       "      <td>47.5620</td>\n",
       "      <td>-122.289</td>\n",
       "      <td>1140.0</td>\n",
       "      <td>3960.0</td>\n",
       "      <td>0</td>\n",
       "      <td>0</td>\n",
       "      <td>1</td>\n",
       "      <td>0</td>\n",
       "      <td>0</td>\n",
       "    </tr>\n",
       "  </tbody>\n",
       "</table>\n",
       "<p>19688 rows × 23 columns</p>\n",
       "</div>"
      ],
      "text/plain": [
       "              id               date     price  bedrooms  bathrooms  floors  \\\n",
       "0      7787980.0    13 October 2014  221900.0       3.0       1.00     1.0   \n",
       "1      6774848.0   09 December 2014  538000.0       3.0       2.25     2.0   \n",
       "2      6999329.0   25 February 2015  180000.0       2.0       1.00     1.0   \n",
       "3      7773052.0   09 December 2014  604000.0       4.0       3.00     1.0   \n",
       "4      7760818.0   18 February 2015  510000.0       3.0       2.00     1.0   \n",
       "...          ...                ...       ...       ...        ...     ...   \n",
       "23146  8031079.0       29 July 2014  750000.0       3.0       2.50     2.0   \n",
       "23147  6749004.0      10 April 2015  237000.0       3.0       1.50     1.0   \n",
       "23149  7681392.0  30 September 2014  455000.0       2.0       1.75     1.0   \n",
       "23151  7261690.0      13 April 2015  179000.0       2.0       1.00     1.0   \n",
       "23152  6844960.0        04 May 2015  450000.0       3.0       1.00     1.5   \n",
       "\n",
       "       waterfront  view  condition  review_score  ...  zipcode  latitude  \\\n",
       "0             0.0   0.0       fair          10.0  ...  98178.0   47.5112   \n",
       "1             0.0   0.0       fair           7.0  ...  98125.0   47.7210   \n",
       "2             0.0   0.0       fair           8.0  ...  98028.0   47.7379   \n",
       "3             0.0   0.0  excellent           6.0  ...  98136.0   47.5208   \n",
       "4             0.0   0.0       fair           6.0  ...  98074.0   47.6168   \n",
       "...           ...   ...        ...           ...  ...      ...       ...   \n",
       "23146         1.0   3.0       good           9.0  ...  98070.0   47.4000   \n",
       "23147         0.0   0.0       fair           7.0  ...  98198.0   47.3798   \n",
       "23149         0.0   0.0       fair           6.0  ...  98053.0   47.7171   \n",
       "23151         0.0   0.0       fair          11.0  ...  98188.0   47.4488   \n",
       "23152         0.0   0.0       good           7.0  ...  98118.0   47.5620   \n",
       "\n",
       "       longitude  living_room_size  lot_size  excellent  fair  good  poor  \\\n",
       "0       -122.257            1340.0    5650.0          0     1     0     0   \n",
       "1       -122.319            1690.0    7639.0          0     1     0     0   \n",
       "2       -122.233            2720.0    8062.0          0     1     0     0   \n",
       "3       -122.393            1360.0    5000.0          1     0     0     0   \n",
       "4       -122.045            1800.0    7503.0          0     1     0     0   \n",
       "...          ...               ...       ...        ...   ...   ...   ...   \n",
       "23146   -122.420            2350.0   41433.0          0     0     1     0   \n",
       "23147   -122.306            1640.0    8060.0          0     1     0     0   \n",
       "23149   -122.033            1440.0    4839.0          0     1     0     0   \n",
       "23151   -122.274            1100.0    8916.0          0     1     0     0   \n",
       "23152   -122.289            1140.0    3960.0          0     0     1     0   \n",
       "\n",
       "       terrible  \n",
       "0             0  \n",
       "1             0  \n",
       "2             0  \n",
       "3             0  \n",
       "4             0  \n",
       "...         ...  \n",
       "23146         0  \n",
       "23147         0  \n",
       "23149         0  \n",
       "23151         0  \n",
       "23152         0  \n",
       "\n",
       "[19688 rows x 23 columns]"
      ]
     },
     "execution_count": 130,
     "metadata": {},
     "output_type": "execute_result"
    }
   ],
   "source": [
    "df"
   ]
  },
  {
   "cell_type": "code",
   "execution_count": 131,
   "metadata": {},
   "outputs": [
    {
     "data": {
      "text/plain": [
       "<matplotlib.axes._subplots.AxesSubplot at 0x28b13f00488>"
      ]
     },
     "execution_count": 131,
     "metadata": {},
     "output_type": "execute_result"
    },
    {
     "data": {
      "image/png": "[encoded data removed]",
      "text/plain": [
       "<Figure size 432x288 with 1 Axes>"
      ]
     },
     "metadata": {
      "needs_background": "light"
     },
     "output_type": "display_data"
    }
   ],
   "source": [
    "sns.boxplot(x=\"review_score\", y='price', data=df)"
   ]
  },
  {
   "cell_type": "code",
   "execution_count": 132,
   "metadata": {},
   "outputs": [
    {
     "data": {
      "text/plain": [
       "<matplotlib.axes._subplots.AxesSubplot at 0x28b14274c48>"
      ]
     },
     "execution_count": 132,
     "metadata": {},
     "output_type": "execute_result"
    },
    {
     "data": {
      "image/png": "[encoded data removed]",
      "text/plain": [
       "<Figure size 432x288 with 1 Axes>"
      ]
     },
     "metadata": {
      "needs_background": "light"
     },
     "output_type": "display_data"
    }
   ],
   "source": [
    "sns.boxplot(x=\"bedrooms\", y='price', data=df)"
   ]
  },
  {
   "cell_type": "code",
   "execution_count": 133,
   "metadata": {},
   "outputs": [
    {
     "data": {
      "text/plain": [
       "<matplotlib.axes._subplots.AxesSubplot at 0x28b14919548>"
      ]
     },
     "execution_count": 133,
     "metadata": {},
     "output_type": "execute_result"
    },
    {
     "data": {
      "image/png": "[encoded data removed]",
      "text/plain": [
       "<Figure size 432x288 with 1 Axes>"
      ]
     },
     "metadata": {
      "needs_background": "light"
     },
     "output_type": "display_data"
    }
   ],
   "source": [
    "sns.boxplot(x='bathrooms', y='price', data=df)"
   ]
  },
  {
   "cell_type": "code",
   "execution_count": 134,
   "metadata": {},
   "outputs": [
    {
     "data": {
      "text/plain": [
       "<matplotlib.axes._subplots.AxesSubplot at 0x28b14c3d588>"
      ]
     },
     "execution_count": 134,
     "metadata": {},
     "output_type": "execute_result"
    },
    {
     "data": {
      "image/png": "[encoded data removed]",
      "text/plain": [
       "<Figure size 432x288 with 1 Axes>"
      ]
     },
     "metadata": {
      "needs_background": "light"
     },
     "output_type": "display_data"
    }
   ],
   "source": [
    "sns.boxplot(x='floors', y='price', data=df)"
   ]
  },
  {
   "cell_type": "code",
   "execution_count": 135,
   "metadata": {},
   "outputs": [
    {
     "data": {
      "text/plain": [
       "<matplotlib.axes._subplots.AxesSubplot at 0x28b14d6fe88>"
      ]
     },
     "execution_count": 135,
     "metadata": {},
     "output_type": "execute_result"
    },
    {
     "data": {
      "image/png": "[encoded data removed]",
      "text/plain": [
       "<Figure size 432x288 with 1 Axes>"
      ]
     },
     "metadata": {
      "needs_background": "light"
     },
     "output_type": "display_data"
    }
   ],
   "source": [
    "sns.boxplot(x='waterfront', y='price', data=df)"
   ]
  },
  {
   "cell_type": "code",
   "execution_count": 136,
   "metadata": {},
   "outputs": [
    {
     "data": {
      "text/plain": [
       "<matplotlib.axes._subplots.AxesSubplot at 0x28b14d953c8>"
      ]
     },
     "execution_count": 136,
     "metadata": {},
     "output_type": "execute_result"
    },
    {
     "data": {
      "image/png": "[encoded data removed]",
      "text/plain": [
       "<Figure size 432x288 with 1 Axes>"
      ]
     },
     "metadata": {
      "needs_background": "light"
     },
     "output_type": "display_data"
    }
   ],
   "source": [
    "sns.boxplot(x='view', y='price', data=df)"
   ]
  },
  {
   "cell_type": "code",
   "execution_count": 137,
   "metadata": {},
   "outputs": [
    {
     "data": {
      "text/plain": [
       "<matplotlib.axes._subplots.AxesSubplot at 0x28b14cad9c8>"
      ]
     },
     "execution_count": 137,
     "metadata": {},
     "output_type": "execute_result"
    },
    {
     "data": {
      "image/png": "[encoded data removed]",
      "text/plain": [
       "<Figure size 432x288 with 1 Axes>"
      ]
     },
     "metadata": {
      "needs_background": "light"
     },
     "output_type": "display_data"
    }
   ],
   "source": [
    "sns.boxplot(x='condition', y='price', data=df)"
   ]
  },
  {
   "cell_type": "code",
   "execution_count": 138,
   "metadata": {},
   "outputs": [
    {
     "data": {
      "text/plain": [
       "<matplotlib.axes._subplots.AxesSubplot at 0x28b15fb83c8>"
      ]
     },
     "execution_count": 138,
     "metadata": {},
     "output_type": "execute_result"
    },
    {
     "data": {
      "image/png": "[encoded data removed]",
      "text/plain": [
       "<Figure size 432x288 with 1 Axes>"
      ]
     },
     "metadata": {
      "needs_background": "light"
     },
     "output_type": "display_data"
    }
   ],
   "source": [
    "sns.regplot(x='basement_size', y='price', data=df)"
   ]
  },
  {
   "cell_type": "code",
   "execution_count": 139,
   "metadata": {},
   "outputs": [
    {
     "name": "stdout",
     "output_type": "stream",
     "text": [
      "The Pearson Correlation Coefficient is 0.3345422253112958  with a P-value of P = 0.0\n"
     ]
    }
   ],
   "source": [
    "pearson_coef, p_value = stats.pearsonr(df['basement_size'], df['price'])\n",
    "print(\"The Pearson Correlation Coefficient is\", pearson_coef, \" with a P-value of P =\", p_value)  "
   ]
  },
  {
   "cell_type": "code",
   "execution_count": 140,
   "metadata": {},
   "outputs": [
    {
     "data": {
      "text/plain": [
       "<matplotlib.axes._subplots.AxesSubplot at 0x28b1600b048>"
      ]
     },
     "execution_count": 140,
     "metadata": {},
     "output_type": "execute_result"
    },
    {
     "data": {
      "image/png": "[encoded data removed]",
      "text/plain": [
       "<Figure size 432x288 with 1 Axes>"
      ]
     },
     "metadata": {
      "needs_background": "light"
     },
     "output_type": "display_data"
    }
   ],
   "source": [
    "sns.regplot(x='built', y='price', data=df)"
   ]
  },
  {
   "cell_type": "code",
   "execution_count": 141,
   "metadata": {},
   "outputs": [
    {
     "name": "stdout",
     "output_type": "stream",
     "text": [
      "The Pearson Correlation Coefficient is 0.055135703375819904  with a P-value of P = 9.80923182292733e-15\n"
     ]
    }
   ],
   "source": [
    "pearson_coef, p_value = stats.pearsonr(df['built'], df['price'])\n",
    "print(\"The Pearson Correlation Coefficient is\", pearson_coef, \" with a P-value of P =\", p_value)  "
   ]
  },
  {
   "cell_type": "code",
   "execution_count": 142,
   "metadata": {},
   "outputs": [
    {
     "data": {
      "text/plain": [
       "<matplotlib.axes._subplots.AxesSubplot at 0x28b1609f348>"
      ]
     },
     "execution_count": 142,
     "metadata": {},
     "output_type": "execute_result"
    },
    {
     "data": {
      "image/png": "[encoded data removed]",
      "text/plain": [
       "<Figure size 432x288 with 1 Axes>"
      ]
     },
     "metadata": {
      "needs_background": "light"
     },
     "output_type": "display_data"
    }
   ],
   "source": [
    "sns.regplot(x='renovation', y='price', data=df)"
   ]
  },
  {
   "cell_type": "code",
   "execution_count": 143,
   "metadata": {},
   "outputs": [
    {
     "name": "stdout",
     "output_type": "stream",
     "text": [
      "The Pearson Correlation Coefficient is 0.12746549241002686  with a P-value of P = 4.2049358949580815e-72\n"
     ]
    }
   ],
   "source": [
    "pearson_coef, p_value = stats.pearsonr(df['renovation'], df['price'])\n",
    "print(\"The Pearson Correlation Coefficient is\", pearson_coef, \" with a P-value of P =\", p_value)  "
   ]
  },
  {
   "cell_type": "code",
   "execution_count": 144,
   "metadata": {},
   "outputs": [
    {
     "data": {
      "text/plain": [
       "<matplotlib.axes._subplots.AxesSubplot at 0x28b16132f88>"
      ]
     },
     "execution_count": 144,
     "metadata": {},
     "output_type": "execute_result"
    },
    {
     "data": {
      "image/png": "[encoded data removed]",
      "text/plain": [
       "<Figure size 432x288 with 1 Axes>"
      ]
     },
     "metadata": {
      "needs_background": "light"
     },
     "output_type": "display_data"
    }
   ],
   "source": [
    "sns.regplot(x='living_room_size',y='price', data=df)"
   ]
  },
  {
   "cell_type": "code",
   "execution_count": 145,
   "metadata": {},
   "outputs": [
    {
     "name": "stdout",
     "output_type": "stream",
     "text": [
      "The Pearson Correlation Coefficient is 0.5827065585263401  with a P-value of P = 0.0\n"
     ]
    }
   ],
   "source": [
    "pearson_coef, p_value = stats.pearsonr(df['living_room_size'], df['price'])\n",
    "print(\"The Pearson Correlation Coefficient is\", pearson_coef, \" with a P-value of P =\", p_value)  "
   ]
  },
  {
   "cell_type": "code",
   "execution_count": 146,
   "metadata": {},
   "outputs": [
    {
     "data": {
      "text/plain": [
       "<matplotlib.axes._subplots.AxesSubplot at 0x28b1619dd08>"
      ]
     },
     "execution_count": 146,
     "metadata": {},
     "output_type": "execute_result"
    },
    {
     "data": {
      "image/png": "[encoded data removed]",
      "text/plain": [
       "<Figure size 432x288 with 1 Axes>"
      ]
     },
     "metadata": {
      "needs_background": "light"
     },
     "output_type": "display_data"
    }
   ],
   "source": [
    "sns.regplot(x='lot_size', y='price', data=df)"
   ]
  },
  {
   "cell_type": "code",
   "execution_count": 147,
   "metadata": {},
   "outputs": [
    {
     "name": "stdout",
     "output_type": "stream",
     "text": [
      "The Pearson Correlation Coefficient is 0.08752364357870825  with a P-value of P = 8.660120107551924e-35\n"
     ]
    }
   ],
   "source": [
    "pearson_coef, p_value = stats.pearsonr(df['lot_size'], df['price'])\n",
    "print(\"The Pearson Correlation Coefficient is\", pearson_coef, \" with a P-value of P =\", p_value)  "
   ]
  },
  {
   "cell_type": "code",
   "execution_count": 148,
   "metadata": {},
   "outputs": [
    {
     "data": {
      "text/plain": [
       "id                  0.014904\n",
       "price               1.000000\n",
       "bedrooms            0.315279\n",
       "bathrooms           0.528041\n",
       "floors              0.256469\n",
       "waterfront          0.275233\n",
       "view                0.401768\n",
       "review_score       -0.004101\n",
       "basement_size       0.334542\n",
       "built               0.055136\n",
       "renovation          0.127465\n",
       "zipcode            -0.057145\n",
       "latitude            0.303502\n",
       "longitude           0.022582\n",
       "living_room_size    0.582707\n",
       "lot_size            0.087524\n",
       "excellent           0.057954\n",
       "fair                0.005209\n",
       "good               -0.028546\n",
       "poor               -0.051972\n",
       "terrible           -0.022188\n",
       "Name: price, dtype: float64"
      ]
     },
     "execution_count": 148,
     "metadata": {},
     "output_type": "execute_result"
    }
   ],
   "source": [
    "df.corr()['price']"
   ]
  },
  {
   "cell_type": "code",
   "execution_count": 149,
   "metadata": {},
   "outputs": [],
   "source": [
    "df.drop_duplicates(subset=['id'], keep='first', inplace=True)"
   ]
  },
  {
   "cell_type": "code",
   "execution_count": 150,
   "metadata": {},
   "outputs": [
    {
     "data": {
      "text/html": [
       "<div>\n",
       "<style scoped>\n",
       "    .dataframe tbody tr th:only-of-type {\n",
       "        vertical-align: middle;\n",
       "    }\n",
       "\n",
       "    .dataframe tbody tr th {\n",
       "        vertical-align: top;\n",
       "    }\n",
       "\n",
       "    .dataframe thead th {\n",
       "        text-align: right;\n",
       "    }\n",
       "</style>\n",
       "<table border=\"1\" class=\"dataframe\">\n",
       "  <thead>\n",
       "    <tr style=\"text-align: right;\">\n",
       "      <th></th>\n",
       "      <th>id</th>\n",
       "      <th>date</th>\n",
       "      <th>price</th>\n",
       "      <th>bedrooms</th>\n",
       "      <th>bathrooms</th>\n",
       "      <th>floors</th>\n",
       "      <th>waterfront</th>\n",
       "      <th>view</th>\n",
       "      <th>condition</th>\n",
       "      <th>review_score</th>\n",
       "      <th>...</th>\n",
       "      <th>zipcode</th>\n",
       "      <th>latitude</th>\n",
       "      <th>longitude</th>\n",
       "      <th>living_room_size</th>\n",
       "      <th>lot_size</th>\n",
       "      <th>excellent</th>\n",
       "      <th>fair</th>\n",
       "      <th>good</th>\n",
       "      <th>poor</th>\n",
       "      <th>terrible</th>\n",
       "    </tr>\n",
       "  </thead>\n",
       "  <tbody>\n",
       "    <tr>\n",
       "      <th>0</th>\n",
       "      <td>7787980.0</td>\n",
       "      <td>13 October 2014</td>\n",
       "      <td>221900.0</td>\n",
       "      <td>3.0</td>\n",
       "      <td>1.00</td>\n",
       "      <td>1.0</td>\n",
       "      <td>0.0</td>\n",
       "      <td>0.0</td>\n",
       "      <td>fair</td>\n",
       "      <td>10.0</td>\n",
       "      <td>...</td>\n",
       "      <td>98178.0</td>\n",
       "      <td>47.5112</td>\n",
       "      <td>-122.257</td>\n",
       "      <td>1340.0</td>\n",
       "      <td>5650.0</td>\n",
       "      <td>0</td>\n",
       "      <td>1</td>\n",
       "      <td>0</td>\n",
       "      <td>0</td>\n",
       "      <td>0</td>\n",
       "    </tr>\n",
       "    <tr>\n",
       "      <th>1</th>\n",
       "      <td>6774848.0</td>\n",
       "      <td>09 December 2014</td>\n",
       "      <td>538000.0</td>\n",
       "      <td>3.0</td>\n",
       "      <td>2.25</td>\n",
       "      <td>2.0</td>\n",
       "      <td>0.0</td>\n",
       "      <td>0.0</td>\n",
       "      <td>fair</td>\n",
       "      <td>7.0</td>\n",
       "      <td>...</td>\n",
       "      <td>98125.0</td>\n",
       "      <td>47.7210</td>\n",
       "      <td>-122.319</td>\n",
       "      <td>1690.0</td>\n",
       "      <td>7639.0</td>\n",
       "      <td>0</td>\n",
       "      <td>1</td>\n",
       "      <td>0</td>\n",
       "      <td>0</td>\n",
       "      <td>0</td>\n",
       "    </tr>\n",
       "    <tr>\n",
       "      <th>2</th>\n",
       "      <td>6999329.0</td>\n",
       "      <td>25 February 2015</td>\n",
       "      <td>180000.0</td>\n",
       "      <td>2.0</td>\n",
       "      <td>1.00</td>\n",
       "      <td>1.0</td>\n",
       "      <td>0.0</td>\n",
       "      <td>0.0</td>\n",
       "      <td>fair</td>\n",
       "      <td>8.0</td>\n",
       "      <td>...</td>\n",
       "      <td>98028.0</td>\n",
       "      <td>47.7379</td>\n",
       "      <td>-122.233</td>\n",
       "      <td>2720.0</td>\n",
       "      <td>8062.0</td>\n",
       "      <td>0</td>\n",
       "      <td>1</td>\n",
       "      <td>0</td>\n",
       "      <td>0</td>\n",
       "      <td>0</td>\n",
       "    </tr>\n",
       "    <tr>\n",
       "      <th>3</th>\n",
       "      <td>7773052.0</td>\n",
       "      <td>09 December 2014</td>\n",
       "      <td>604000.0</td>\n",
       "      <td>4.0</td>\n",
       "      <td>3.00</td>\n",
       "      <td>1.0</td>\n",
       "      <td>0.0</td>\n",
       "      <td>0.0</td>\n",
       "      <td>excellent</td>\n",
       "      <td>6.0</td>\n",
       "      <td>...</td>\n",
       "      <td>98136.0</td>\n",
       "      <td>47.5208</td>\n",
       "      <td>-122.393</td>\n",
       "      <td>1360.0</td>\n",
       "      <td>5000.0</td>\n",
       "      <td>1</td>\n",
       "      <td>0</td>\n",
       "      <td>0</td>\n",
       "      <td>0</td>\n",
       "      <td>0</td>\n",
       "    </tr>\n",
       "    <tr>\n",
       "      <th>4</th>\n",
       "      <td>7760818.0</td>\n",
       "      <td>18 February 2015</td>\n",
       "      <td>510000.0</td>\n",
       "      <td>3.0</td>\n",
       "      <td>2.00</td>\n",
       "      <td>1.0</td>\n",
       "      <td>0.0</td>\n",
       "      <td>0.0</td>\n",
       "      <td>fair</td>\n",
       "      <td>6.0</td>\n",
       "      <td>...</td>\n",
       "      <td>98074.0</td>\n",
       "      <td>47.6168</td>\n",
       "      <td>-122.045</td>\n",
       "      <td>1800.0</td>\n",
       "      <td>7503.0</td>\n",
       "      <td>0</td>\n",
       "      <td>1</td>\n",
       "      <td>0</td>\n",
       "      <td>0</td>\n",
       "      <td>0</td>\n",
       "    </tr>\n",
       "    <tr>\n",
       "      <th>...</th>\n",
       "      <td>...</td>\n",
       "      <td>...</td>\n",
       "      <td>...</td>\n",
       "      <td>...</td>\n",
       "      <td>...</td>\n",
       "      <td>...</td>\n",
       "      <td>...</td>\n",
       "      <td>...</td>\n",
       "      <td>...</td>\n",
       "      <td>...</td>\n",
       "      <td>...</td>\n",
       "      <td>...</td>\n",
       "      <td>...</td>\n",
       "      <td>...</td>\n",
       "      <td>...</td>\n",
       "      <td>...</td>\n",
       "      <td>...</td>\n",
       "      <td>...</td>\n",
       "      <td>...</td>\n",
       "      <td>...</td>\n",
       "      <td>...</td>\n",
       "    </tr>\n",
       "    <tr>\n",
       "      <th>23119</th>\n",
       "      <td>6931291.0</td>\n",
       "      <td>24 February 2015</td>\n",
       "      <td>718000.0</td>\n",
       "      <td>4.0</td>\n",
       "      <td>2.75</td>\n",
       "      <td>1.0</td>\n",
       "      <td>0.0</td>\n",
       "      <td>0.0</td>\n",
       "      <td>excellent</td>\n",
       "      <td>7.0</td>\n",
       "      <td>...</td>\n",
       "      <td>98144.0</td>\n",
       "      <td>47.5841</td>\n",
       "      <td>-122.295</td>\n",
       "      <td>2200.0</td>\n",
       "      <td>4000.0</td>\n",
       "      <td>1</td>\n",
       "      <td>0</td>\n",
       "      <td>0</td>\n",
       "      <td>0</td>\n",
       "      <td>0</td>\n",
       "    </tr>\n",
       "    <tr>\n",
       "      <th>23124</th>\n",
       "      <td>8068047.0</td>\n",
       "      <td>15 September 2014</td>\n",
       "      <td>1205000.0</td>\n",
       "      <td>4.0</td>\n",
       "      <td>3.50</td>\n",
       "      <td>2.0</td>\n",
       "      <td>0.0</td>\n",
       "      <td>2.0</td>\n",
       "      <td>fair</td>\n",
       "      <td>7.0</td>\n",
       "      <td>...</td>\n",
       "      <td>98115.0</td>\n",
       "      <td>47.6762</td>\n",
       "      <td>-122.267</td>\n",
       "      <td>2100.0</td>\n",
       "      <td>6250.0</td>\n",
       "      <td>0</td>\n",
       "      <td>1</td>\n",
       "      <td>0</td>\n",
       "      <td>0</td>\n",
       "      <td>0</td>\n",
       "    </tr>\n",
       "    <tr>\n",
       "      <th>23128</th>\n",
       "      <td>7493632.0</td>\n",
       "      <td>22 December 2014</td>\n",
       "      <td>323000.0</td>\n",
       "      <td>4.0</td>\n",
       "      <td>1.75</td>\n",
       "      <td>1.0</td>\n",
       "      <td>0.0</td>\n",
       "      <td>0.0</td>\n",
       "      <td>good</td>\n",
       "      <td>11.0</td>\n",
       "      <td>...</td>\n",
       "      <td>98155.0</td>\n",
       "      <td>47.7639</td>\n",
       "      <td>-122.332</td>\n",
       "      <td>1940.0</td>\n",
       "      <td>7208.0</td>\n",
       "      <td>0</td>\n",
       "      <td>0</td>\n",
       "      <td>1</td>\n",
       "      <td>0</td>\n",
       "      <td>0</td>\n",
       "    </tr>\n",
       "    <tr>\n",
       "      <th>23130</th>\n",
       "      <td>7892349.0</td>\n",
       "      <td>11 September 2014</td>\n",
       "      <td>3640900.0</td>\n",
       "      <td>4.0</td>\n",
       "      <td>3.25</td>\n",
       "      <td>2.0</td>\n",
       "      <td>1.0</td>\n",
       "      <td>4.0</td>\n",
       "      <td>good</td>\n",
       "      <td>8.0</td>\n",
       "      <td>...</td>\n",
       "      <td>98039.0</td>\n",
       "      <td>47.6409</td>\n",
       "      <td>-122.241</td>\n",
       "      <td>3820.0</td>\n",
       "      <td>25582.0</td>\n",
       "      <td>0</td>\n",
       "      <td>0</td>\n",
       "      <td>1</td>\n",
       "      <td>0</td>\n",
       "      <td>0</td>\n",
       "    </tr>\n",
       "    <tr>\n",
       "      <th>23135</th>\n",
       "      <td>7267331.0</td>\n",
       "      <td>06 March 2015</td>\n",
       "      <td>619100.0</td>\n",
       "      <td>3.0</td>\n",
       "      <td>1.75</td>\n",
       "      <td>1.0</td>\n",
       "      <td>0.0</td>\n",
       "      <td>0.0</td>\n",
       "      <td>fair</td>\n",
       "      <td>9.0</td>\n",
       "      <td>...</td>\n",
       "      <td>98033.0</td>\n",
       "      <td>47.6999</td>\n",
       "      <td>-122.170</td>\n",
       "      <td>1820.0</td>\n",
       "      <td>7500.0</td>\n",
       "      <td>0</td>\n",
       "      <td>1</td>\n",
       "      <td>0</td>\n",
       "      <td>0</td>\n",
       "      <td>0</td>\n",
       "    </tr>\n",
       "  </tbody>\n",
       "</table>\n",
       "<p>18431 rows × 23 columns</p>\n",
       "</div>"
      ],
      "text/plain": [
       "              id               date      price  bedrooms  bathrooms  floors  \\\n",
       "0      7787980.0    13 October 2014   221900.0       3.0       1.00     1.0   \n",
       "1      6774848.0   09 December 2014   538000.0       3.0       2.25     2.0   \n",
       "2      6999329.0   25 February 2015   180000.0       2.0       1.00     1.0   \n",
       "3      7773052.0   09 December 2014   604000.0       4.0       3.00     1.0   \n",
       "4      7760818.0   18 February 2015   510000.0       3.0       2.00     1.0   \n",
       "...          ...                ...        ...       ...        ...     ...   \n",
       "23119  6931291.0   24 February 2015   718000.0       4.0       2.75     1.0   \n",
       "23124  8068047.0  15 September 2014  1205000.0       4.0       3.50     2.0   \n",
       "23128  7493632.0   22 December 2014   323000.0       4.0       1.75     1.0   \n",
       "23130  7892349.0  11 September 2014  3640900.0       4.0       3.25     2.0   \n",
       "23135  7267331.0      06 March 2015   619100.0       3.0       1.75     1.0   \n",
       "\n",
       "       waterfront  view  condition  review_score  ...  zipcode  latitude  \\\n",
       "0             0.0   0.0       fair          10.0  ...  98178.0   47.5112   \n",
       "1             0.0   0.0       fair           7.0  ...  98125.0   47.7210   \n",
       "2             0.0   0.0       fair           8.0  ...  98028.0   47.7379   \n",
       "3             0.0   0.0  excellent           6.0  ...  98136.0   47.5208   \n",
       "4             0.0   0.0       fair           6.0  ...  98074.0   47.6168   \n",
       "...           ...   ...        ...           ...  ...      ...       ...   \n",
       "23119         0.0   0.0  excellent           7.0  ...  98144.0   47.5841   \n",
       "23124         0.0   2.0       fair           7.0  ...  98115.0   47.6762   \n",
       "23128         0.0   0.0       good          11.0  ...  98155.0   47.7639   \n",
       "23130         1.0   4.0       good           8.0  ...  98039.0   47.6409   \n",
       "23135         0.0   0.0       fair           9.0  ...  98033.0   47.6999   \n",
       "\n",
       "       longitude  living_room_size  lot_size  excellent  fair  good  poor  \\\n",
       "0       -122.257            1340.0    5650.0          0     1     0     0   \n",
       "1       -122.319            1690.0    7639.0          0     1     0     0   \n",
       "2       -122.233            2720.0    8062.0          0     1     0     0   \n",
       "3       -122.393            1360.0    5000.0          1     0     0     0   \n",
       "4       -122.045            1800.0    7503.0          0     1     0     0   \n",
       "...          ...               ...       ...        ...   ...   ...   ...   \n",
       "23119   -122.295            2200.0    4000.0          1     0     0     0   \n",
       "23124   -122.267            2100.0    6250.0          0     1     0     0   \n",
       "23128   -122.332            1940.0    7208.0          0     0     1     0   \n",
       "23130   -122.241            3820.0   25582.0          0     0     1     0   \n",
       "23135   -122.170            1820.0    7500.0          0     1     0     0   \n",
       "\n",
       "       terrible  \n",
       "0             0  \n",
       "1             0  \n",
       "2             0  \n",
       "3             0  \n",
       "4             0  \n",
       "...         ...  \n",
       "23119         0  \n",
       "23124         0  \n",
       "23128         0  \n",
       "23130         0  \n",
       "23135         0  \n",
       "\n",
       "[18431 rows x 23 columns]"
      ]
     },
     "execution_count": 150,
     "metadata": {},
     "output_type": "execute_result"
    }
   ],
   "source": [
    "df"
   ]
  },
  {
   "cell_type": "code",
   "execution_count": 151,
   "metadata": {},
   "outputs": [],
   "source": [
    "df.drop(['id','date','review_score','zipcode','latitude','longitude','condition'],axis=1,inplace=True)"
   ]
  },
  {
   "cell_type": "code",
   "execution_count": 152,
   "metadata": {},
   "outputs": [
    {
     "data": {
      "text/html": [
       "<div>\n",
       "<style scoped>\n",
       "    .dataframe tbody tr th:only-of-type {\n",
       "        vertical-align: middle;\n",
       "    }\n",
       "\n",
       "    .dataframe tbody tr th {\n",
       "        vertical-align: top;\n",
       "    }\n",
       "\n",
       "    .dataframe thead th {\n",
       "        text-align: right;\n",
       "    }\n",
       "</style>\n",
       "<table border=\"1\" class=\"dataframe\">\n",
       "  <thead>\n",
       "    <tr style=\"text-align: right;\">\n",
       "      <th></th>\n",
       "      <th>price</th>\n",
       "      <th>bedrooms</th>\n",
       "      <th>bathrooms</th>\n",
       "      <th>floors</th>\n",
       "      <th>waterfront</th>\n",
       "      <th>view</th>\n",
       "      <th>basement_size</th>\n",
       "      <th>built</th>\n",
       "      <th>renovation</th>\n",
       "      <th>living_room_size</th>\n",
       "      <th>lot_size</th>\n",
       "      <th>excellent</th>\n",
       "      <th>fair</th>\n",
       "      <th>good</th>\n",
       "      <th>poor</th>\n",
       "      <th>terrible</th>\n",
       "    </tr>\n",
       "  </thead>\n",
       "  <tbody>\n",
       "    <tr>\n",
       "      <th>0</th>\n",
       "      <td>221900.0</td>\n",
       "      <td>3.0</td>\n",
       "      <td>1.00</td>\n",
       "      <td>1.0</td>\n",
       "      <td>0.0</td>\n",
       "      <td>0.0</td>\n",
       "      <td>0.0</td>\n",
       "      <td>1955.0</td>\n",
       "      <td>0.0</td>\n",
       "      <td>1340.0</td>\n",
       "      <td>5650.0</td>\n",
       "      <td>0</td>\n",
       "      <td>1</td>\n",
       "      <td>0</td>\n",
       "      <td>0</td>\n",
       "      <td>0</td>\n",
       "    </tr>\n",
       "    <tr>\n",
       "      <th>1</th>\n",
       "      <td>538000.0</td>\n",
       "      <td>3.0</td>\n",
       "      <td>2.25</td>\n",
       "      <td>2.0</td>\n",
       "      <td>0.0</td>\n",
       "      <td>0.0</td>\n",
       "      <td>400.0</td>\n",
       "      <td>1951.0</td>\n",
       "      <td>1991.0</td>\n",
       "      <td>1690.0</td>\n",
       "      <td>7639.0</td>\n",
       "      <td>0</td>\n",
       "      <td>1</td>\n",
       "      <td>0</td>\n",
       "      <td>0</td>\n",
       "      <td>0</td>\n",
       "    </tr>\n",
       "    <tr>\n",
       "      <th>2</th>\n",
       "      <td>180000.0</td>\n",
       "      <td>2.0</td>\n",
       "      <td>1.00</td>\n",
       "      <td>1.0</td>\n",
       "      <td>0.0</td>\n",
       "      <td>0.0</td>\n",
       "      <td>0.0</td>\n",
       "      <td>1933.0</td>\n",
       "      <td>0.0</td>\n",
       "      <td>2720.0</td>\n",
       "      <td>8062.0</td>\n",
       "      <td>0</td>\n",
       "      <td>1</td>\n",
       "      <td>0</td>\n",
       "      <td>0</td>\n",
       "      <td>0</td>\n",
       "    </tr>\n",
       "    <tr>\n",
       "      <th>3</th>\n",
       "      <td>604000.0</td>\n",
       "      <td>4.0</td>\n",
       "      <td>3.00</td>\n",
       "      <td>1.0</td>\n",
       "      <td>0.0</td>\n",
       "      <td>0.0</td>\n",
       "      <td>910.0</td>\n",
       "      <td>1965.0</td>\n",
       "      <td>0.0</td>\n",
       "      <td>1360.0</td>\n",
       "      <td>5000.0</td>\n",
       "      <td>1</td>\n",
       "      <td>0</td>\n",
       "      <td>0</td>\n",
       "      <td>0</td>\n",
       "      <td>0</td>\n",
       "    </tr>\n",
       "    <tr>\n",
       "      <th>4</th>\n",
       "      <td>510000.0</td>\n",
       "      <td>3.0</td>\n",
       "      <td>2.00</td>\n",
       "      <td>1.0</td>\n",
       "      <td>0.0</td>\n",
       "      <td>0.0</td>\n",
       "      <td>0.0</td>\n",
       "      <td>1987.0</td>\n",
       "      <td>0.0</td>\n",
       "      <td>1800.0</td>\n",
       "      <td>7503.0</td>\n",
       "      <td>0</td>\n",
       "      <td>1</td>\n",
       "      <td>0</td>\n",
       "      <td>0</td>\n",
       "      <td>0</td>\n",
       "    </tr>\n",
       "    <tr>\n",
       "      <th>...</th>\n",
       "      <td>...</td>\n",
       "      <td>...</td>\n",
       "      <td>...</td>\n",
       "      <td>...</td>\n",
       "      <td>...</td>\n",
       "      <td>...</td>\n",
       "      <td>...</td>\n",
       "      <td>...</td>\n",
       "      <td>...</td>\n",
       "      <td>...</td>\n",
       "      <td>...</td>\n",
       "      <td>...</td>\n",
       "      <td>...</td>\n",
       "      <td>...</td>\n",
       "      <td>...</td>\n",
       "      <td>...</td>\n",
       "    </tr>\n",
       "    <tr>\n",
       "      <th>23119</th>\n",
       "      <td>718000.0</td>\n",
       "      <td>4.0</td>\n",
       "      <td>2.75</td>\n",
       "      <td>1.0</td>\n",
       "      <td>0.0</td>\n",
       "      <td>0.0</td>\n",
       "      <td>1270.0</td>\n",
       "      <td>1939.0</td>\n",
       "      <td>0.0</td>\n",
       "      <td>2200.0</td>\n",
       "      <td>4000.0</td>\n",
       "      <td>1</td>\n",
       "      <td>0</td>\n",
       "      <td>0</td>\n",
       "      <td>0</td>\n",
       "      <td>0</td>\n",
       "    </tr>\n",
       "    <tr>\n",
       "      <th>23124</th>\n",
       "      <td>1205000.0</td>\n",
       "      <td>4.0</td>\n",
       "      <td>3.50</td>\n",
       "      <td>2.0</td>\n",
       "      <td>0.0</td>\n",
       "      <td>2.0</td>\n",
       "      <td>450.0</td>\n",
       "      <td>2006.0</td>\n",
       "      <td>0.0</td>\n",
       "      <td>2100.0</td>\n",
       "      <td>6250.0</td>\n",
       "      <td>0</td>\n",
       "      <td>1</td>\n",
       "      <td>0</td>\n",
       "      <td>0</td>\n",
       "      <td>0</td>\n",
       "    </tr>\n",
       "    <tr>\n",
       "      <th>23128</th>\n",
       "      <td>323000.0</td>\n",
       "      <td>4.0</td>\n",
       "      <td>1.75</td>\n",
       "      <td>1.0</td>\n",
       "      <td>0.0</td>\n",
       "      <td>0.0</td>\n",
       "      <td>0.0</td>\n",
       "      <td>1963.0</td>\n",
       "      <td>0.0</td>\n",
       "      <td>1940.0</td>\n",
       "      <td>7208.0</td>\n",
       "      <td>0</td>\n",
       "      <td>0</td>\n",
       "      <td>1</td>\n",
       "      <td>0</td>\n",
       "      <td>0</td>\n",
       "    </tr>\n",
       "    <tr>\n",
       "      <th>23130</th>\n",
       "      <td>3640900.0</td>\n",
       "      <td>4.0</td>\n",
       "      <td>3.25</td>\n",
       "      <td>2.0</td>\n",
       "      <td>1.0</td>\n",
       "      <td>4.0</td>\n",
       "      <td>0.0</td>\n",
       "      <td>1990.0</td>\n",
       "      <td>0.0</td>\n",
       "      <td>3820.0</td>\n",
       "      <td>25582.0</td>\n",
       "      <td>0</td>\n",
       "      <td>0</td>\n",
       "      <td>1</td>\n",
       "      <td>0</td>\n",
       "      <td>0</td>\n",
       "    </tr>\n",
       "    <tr>\n",
       "      <th>23135</th>\n",
       "      <td>619100.0</td>\n",
       "      <td>3.0</td>\n",
       "      <td>1.75</td>\n",
       "      <td>1.0</td>\n",
       "      <td>0.0</td>\n",
       "      <td>0.0</td>\n",
       "      <td>0.0</td>\n",
       "      <td>1977.0</td>\n",
       "      <td>0.0</td>\n",
       "      <td>1820.0</td>\n",
       "      <td>7500.0</td>\n",
       "      <td>0</td>\n",
       "      <td>1</td>\n",
       "      <td>0</td>\n",
       "      <td>0</td>\n",
       "      <td>0</td>\n",
       "    </tr>\n",
       "  </tbody>\n",
       "</table>\n",
       "<p>18431 rows × 16 columns</p>\n",
       "</div>"
      ],
      "text/plain": [
       "           price  bedrooms  bathrooms  floors  waterfront  view  \\\n",
       "0       221900.0       3.0       1.00     1.0         0.0   0.0   \n",
       "1       538000.0       3.0       2.25     2.0         0.0   0.0   \n",
       "2       180000.0       2.0       1.00     1.0         0.0   0.0   \n",
       "3       604000.0       4.0       3.00     1.0         0.0   0.0   \n",
       "4       510000.0       3.0       2.00     1.0         0.0   0.0   \n",
       "...          ...       ...        ...     ...         ...   ...   \n",
       "23119   718000.0       4.0       2.75     1.0         0.0   0.0   \n",
       "23124  1205000.0       4.0       3.50     2.0         0.0   2.0   \n",
       "23128   323000.0       4.0       1.75     1.0         0.0   0.0   \n",
       "23130  3640900.0       4.0       3.25     2.0         1.0   4.0   \n",
       "23135   619100.0       3.0       1.75     1.0         0.0   0.0   \n",
       "\n",
       "       basement_size   built  renovation  living_room_size  lot_size  \\\n",
       "0                0.0  1955.0         0.0            1340.0    5650.0   \n",
       "1              400.0  1951.0      1991.0            1690.0    7639.0   \n",
       "2                0.0  1933.0         0.0            2720.0    8062.0   \n",
       "3              910.0  1965.0         0.0            1360.0    5000.0   \n",
       "4                0.0  1987.0         0.0            1800.0    7503.0   \n",
       "...              ...     ...         ...               ...       ...   \n",
       "23119         1270.0  1939.0         0.0            2200.0    4000.0   \n",
       "23124          450.0  2006.0         0.0            2100.0    6250.0   \n",
       "23128            0.0  1963.0         0.0            1940.0    7208.0   \n",
       "23130            0.0  1990.0         0.0            3820.0   25582.0   \n",
       "23135            0.0  1977.0         0.0            1820.0    7500.0   \n",
       "\n",
       "       excellent  fair  good  poor  terrible  \n",
       "0              0     1     0     0         0  \n",
       "1              0     1     0     0         0  \n",
       "2              0     1     0     0         0  \n",
       "3              1     0     0     0         0  \n",
       "4              0     1     0     0         0  \n",
       "...          ...   ...   ...   ...       ...  \n",
       "23119          1     0     0     0         0  \n",
       "23124          0     1     0     0         0  \n",
       "23128          0     0     1     0         0  \n",
       "23130          0     0     1     0         0  \n",
       "23135          0     1     0     0         0  \n",
       "\n",
       "[18431 rows x 16 columns]"
      ]
     },
     "execution_count": 152,
     "metadata": {},
     "output_type": "execute_result"
    }
   ],
   "source": [
    "df"
   ]
  },
  {
   "cell_type": "code",
   "execution_count": 153,
   "metadata": {},
   "outputs": [],
   "source": [
    "from sklearn.linear_model import LinearRegression\n",
    "from sklearn.preprocessing import PolynomialFeatures\n",
    "from sklearn.model_selection import train_test_split"
   ]
  },
  {
   "cell_type": "code",
   "execution_count": 154,
   "metadata": {},
   "outputs": [],
   "source": [
    "ydata = df['price']\n",
    "xdata = df.drop('price',axis=1)"
   ]
  },
  {
   "cell_type": "code",
   "execution_count": 155,
   "metadata": {},
   "outputs": [
    {
     "name": "stdout",
     "output_type": "stream",
     "text": [
      "number of test samples : 1844\n",
      "number of training samples : 16587\n"
     ]
    }
   ],
   "source": [
    "x_train, x_test, y_train, y_test = train_test_split(xdata, ydata, test_size=0.1, random_state = 1)\n",
    "print(\"number of test samples :\", x_test.shape[0])\n",
    "print(\"number of training samples :\", x_train.shape[0])"
   ]
  },
  {
   "cell_type": "code",
   "execution_count": 156,
   "metadata": {},
   "outputs": [
    {
     "data": {
      "text/plain": [
       "LinearRegression(copy_X=True, fit_intercept=True, n_jobs=None, normalize=False)"
      ]
     },
     "execution_count": 156,
     "metadata": {},
     "output_type": "execute_result"
    }
   ],
   "source": [
    "pr = PolynomialFeatures(degree=2)\n",
    "x_train_pr = pr.fit_transform(x_train)\n",
    "x_test_pr = pr.fit_transform(x_test)\n",
    "poly = LinearRegression()\n",
    "poly.fit(x_train_pr, y_train)"
   ]
  },
  {
   "cell_type": "code",
   "execution_count": 159,
   "metadata": {},
   "outputs": [
    {
     "data": {
      "text/plain": [
       "array([ 265547.74560481, 1894781.9083306 ,  603866.01926243, ...,\n",
       "        555056.60850073,  628334.7713189 ,  396810.29367973])"
      ]
     },
     "execution_count": 159,
     "metadata": {},
     "output_type": "execute_result"
    }
   ],
   "source": [
    "yhat = poly.predict(x_test_pr)\n",
    "yhat"
   ]
  },
  {
   "cell_type": "code",
   "execution_count": 160,
   "metadata": {},
   "outputs": [
    {
     "name": "stdout",
     "output_type": "stream",
     "text": [
      "Predicted values: [ 265547.74560481 1894781.9083306   603866.01926243  853010.21808515]\n",
      "True values: [279950. 770000. 499990. 985000.]\n"
     ]
    }
   ],
   "source": [
    "print(\"Predicted values:\", yhat[0:4])\n",
    "print(\"True values:\", y_test[0:4].values)"
   ]
  },
  {
   "cell_type": "code",
   "execution_count": 171,
   "metadata": {},
   "outputs": [
    {
     "data": {
      "text/plain": [
       "0.635344564618803"
      ]
     },
     "execution_count": 171,
     "metadata": {},
     "output_type": "execute_result"
    }
   ],
   "source": [
    "poly.score(x_train_pr, y_train)"
   ]
  },
  {
   "cell_type": "code",
   "execution_count": 172,
   "metadata": {},
   "outputs": [
    {
     "data": {
      "text/plain": [
       "0.6556496793594829"
      ]
     },
     "execution_count": 172,
     "metadata": {},
     "output_type": "execute_result"
    }
   ],
   "source": [
    "poly.score(x_test_pr, y_test)"
   ]
  },
  {
   "cell_type": "code",
   "execution_count": 162,
   "metadata": {},
   "outputs": [],
   "source": [
    "def DistributionPlot(RedFunction, BlueFunction, RedName, BlueName, Title):\n",
    "    width = 12\n",
    "    height = 10\n",
    "    plt.figure(figsize=(width, height))\n",
    "\n",
    "    ax1 = sns.distplot(RedFunction, hist=False, color=\"r\", label=RedName)\n",
    "    ax2 = sns.distplot(BlueFunction, hist=False, color=\"b\", label=BlueName, ax=ax1)\n",
    "\n",
    "    plt.title(Title)\n",
    "    plt.xlabel('Price')\n",
    "    plt.ylabel('Overall')\n",
    "\n",
    "    plt.show()\n",
    "    plt.close()"
   ]
  },
  {
   "cell_type": "code",
   "execution_count": 173,
   "metadata": {},
   "outputs": [
    {
     "data": {
      "image/png": "[encoded data removed]",
      "text/plain": [
       "<Figure size 864x720 with 1 Axes>"
      ]
     },
     "metadata": {
      "needs_background": "light"
     },
     "output_type": "display_data"
    }
   ],
   "source": [
    "Title=\"Distribution Plot of Predicted vs Actual\"\n",
    "DistributionPlot(y_test,yhat, \"Actual Values (Test)\", \"Predicted Values (Test)\", Title)"
   ]
  }
 ],
 "metadata": {
  "kernelspec": {
   "display_name": "Python 3",
   "language": "python",
   "name": "python3"
  },
  "language_info": {
   "codemirror_mode": {
    "name": "ipython",
    "version": 3
   },
   "file_extension": ".py",
   "mimetype": "text/x-python",
   "name": "python",
   "nbconvert_exporter": "python",
   "pygments_lexer": "ipython3",
   "version": "3.7.6"
  }
 },
 "nbformat": 4,
 "nbformat_minor": 4
}
